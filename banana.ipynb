{
  "nbformat": 4,
  "nbformat_minor": 0,
  "metadata": {
    "colab": {
      "provenance": []
    },
    "kernelspec": {
      "name": "python3",
      "display_name": "Python 3"
    },
    "language_info": {
      "name": "python"
    }
  },
  "cells": [
    {
      "cell_type": "code",
      "source": [
        "pip install roboflow"
      ],
      "metadata": {
        "colab": {
          "base_uri": "https://localhost:8080/"
        },
        "id": "p_2euzrpNfuU",
        "outputId": "ab726ab6-5ac0-455f-9a04-b26893926842"
      },
      "execution_count": null,
      "outputs": [
        {
          "output_type": "stream",
          "name": "stdout",
          "text": [
            "Requirement already satisfied: roboflow in /usr/local/lib/python3.10/dist-packages (1.1.3)\n",
            "Requirement already satisfied: certifi==2022.12.7 in /usr/local/lib/python3.10/dist-packages (from roboflow) (2022.12.7)\n",
            "Requirement already satisfied: chardet==4.0.0 in /usr/local/lib/python3.10/dist-packages (from roboflow) (4.0.0)\n",
            "Requirement already satisfied: cycler==0.10.0 in /usr/local/lib/python3.10/dist-packages (from roboflow) (0.10.0)\n",
            "Requirement already satisfied: idna==2.10 in /usr/local/lib/python3.10/dist-packages (from roboflow) (2.10)\n",
            "Requirement already satisfied: kiwisolver>=1.3.1 in /usr/local/lib/python3.10/dist-packages (from roboflow) (1.4.4)\n",
            "Requirement already satisfied: matplotlib in /usr/local/lib/python3.10/dist-packages (from roboflow) (3.7.1)\n",
            "Requirement already satisfied: numpy>=1.18.5 in /usr/local/lib/python3.10/dist-packages (from roboflow) (1.23.5)\n",
            "Requirement already satisfied: opencv-python>=4.1.2 in /usr/local/lib/python3.10/dist-packages (from roboflow) (4.8.0.76)\n",
            "Requirement already satisfied: Pillow>=7.1.2 in /usr/local/lib/python3.10/dist-packages (from roboflow) (9.4.0)\n",
            "Requirement already satisfied: pyparsing==2.4.7 in /usr/local/lib/python3.10/dist-packages (from roboflow) (2.4.7)\n",
            "Requirement already satisfied: python-dateutil in /usr/local/lib/python3.10/dist-packages (from roboflow) (2.8.2)\n",
            "Requirement already satisfied: python-dotenv in /usr/local/lib/python3.10/dist-packages (from roboflow) (1.0.0)\n",
            "Requirement already satisfied: requests in /usr/local/lib/python3.10/dist-packages (from roboflow) (2.31.0)\n",
            "Requirement already satisfied: six in /usr/local/lib/python3.10/dist-packages (from roboflow) (1.16.0)\n",
            "Requirement already satisfied: supervision in /usr/local/lib/python3.10/dist-packages (from roboflow) (0.13.0)\n",
            "Requirement already satisfied: urllib3>=1.26.6 in /usr/local/lib/python3.10/dist-packages (from roboflow) (2.0.4)\n",
            "Requirement already satisfied: wget in /usr/local/lib/python3.10/dist-packages (from roboflow) (3.2)\n",
            "Requirement already satisfied: tqdm>=4.41.0 in /usr/local/lib/python3.10/dist-packages (from roboflow) (4.66.1)\n",
            "Requirement already satisfied: PyYAML>=5.3.1 in /usr/local/lib/python3.10/dist-packages (from roboflow) (6.0.1)\n",
            "Requirement already satisfied: requests-toolbelt in /usr/local/lib/python3.10/dist-packages (from roboflow) (1.0.0)\n",
            "Requirement already satisfied: contourpy>=1.0.1 in /usr/local/lib/python3.10/dist-packages (from matplotlib->roboflow) (1.1.0)\n",
            "Requirement already satisfied: fonttools>=4.22.0 in /usr/local/lib/python3.10/dist-packages (from matplotlib->roboflow) (4.42.0)\n",
            "Requirement already satisfied: packaging>=20.0 in /usr/local/lib/python3.10/dist-packages (from matplotlib->roboflow) (23.1)\n",
            "Requirement already satisfied: charset-normalizer<4,>=2 in /usr/local/lib/python3.10/dist-packages (from requests->roboflow) (3.2.0)\n",
            "Requirement already satisfied: opencv-python-headless<5.0.0.0,>=4.8.0.74 in /usr/local/lib/python3.10/dist-packages (from supervision->roboflow) (4.8.0.76)\n",
            "Requirement already satisfied: scipy<2.0.0,>=1.9.0 in /usr/local/lib/python3.10/dist-packages (from supervision->roboflow) (1.10.1)\n"
          ]
        }
      ]
    },
    {
      "cell_type": "code",
      "execution_count": null,
      "metadata": {
        "colab": {
          "base_uri": "https://localhost:8080/"
        },
        "id": "6Z9AxhifNPIj",
        "outputId": "2368bb1f-aa5a-4c1b-fe4f-1edab6e2882d"
      },
      "outputs": [
        {
          "output_type": "stream",
          "name": "stdout",
          "text": [
            "loading Roboflow workspace...\n",
            "loading Roboflow project...\n",
            "Drive already mounted at /content/drive; to attempt to forcibly remount, call drive.mount(\"/content/drive\", force_remount=True).\n",
            "/content/drive/MyDrive/banana/images.jpg\n",
            "images.jpg  -> unripe\n",
            "/content/drive/MyDrive/banana/images2.jpg\n",
            "images2.jpg  -> freshripe\n",
            "/content/drive/MyDrive/banana/cig858h5aj67kbcfje87a.jpg\n",
            "cig858h5aj67kbcfje87a.jpg  -> unripe\n",
            "/content/drive/MyDrive/banana/2e1f85f580c73368.jpg\n",
            "2e1f85f580c73368.jpg  -> freshripe\n"
          ]
        }
      ],
      "source": [
        "from roboflow.util.prediction import PREDICTION_OBJECT\n",
        "from roboflow import Roboflow\n",
        "from google.colab import drive\n",
        "import os\n",
        "from PIL import Image\n",
        "\n",
        "rf = Roboflow(api_key=\"ziZNH5sBjNcEECr1dG06\")\n",
        "project = rf.workspace().project(\"banana-ripening-process\")\n",
        "model = project.version(2).model\n",
        "\n",
        "\n",
        "drive.mount('/content/drive')\n",
        "folder_path='/content/drive/MyDrive/banana'\n",
        "file_name = os.listdir(folder_path)\n",
        "\n",
        "\n",
        "\n",
        "for filename in file_name:\n",
        "  file_path = folder_path + '/' + filename\n",
        "  print(file_path)\n",
        "  pred = model.predict(file_path,confidence = 0, overlap = 30).json()\n",
        "  #print(pred)\n",
        "  for result in pred['predictions']:\n",
        "    it_banana =False\n",
        "    if result['confidence'] >= 0.5:\n",
        "      it_banana = True\n",
        "    #print(it_atk)\n",
        "    if it_banana:\n",
        "      break\n",
        "  #print(result['class'])\n",
        "  if result['class'] == 'freshripe' and it_banana == True:\n",
        "    print(filename,' -> freshripe')\n",
        "  if result['class'] == 'freshunripe' and it_banana == True:\n",
        "    print(filename,' -> freshunripe')\n",
        "  if result['class'] == 'overripe' and it_banana == True:\n",
        "    print(filename,' -> overripe')\n",
        "  if result['class'] == 'ripe' and it_banana == True:\n",
        "    print(filename,' -> ripe')\n",
        "  if result['class'] == 'rotten' and it_banana == True:\n",
        "    print(filename,' -> rotten')\n",
        "  if result['class'] == 'unripe' and it_banana == True:\n",
        "    print(filename,' -> unripe')\n",
        "  if it_banana ==False:\n",
        "    print(filename,' -> not banana')"
      ]
    }
  ]
}